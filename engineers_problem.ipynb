{
 "cells": [
  {
   "cell_type": "code",
   "execution_count": 35,
   "id": "ace9a40f-d22f-4cb9-95ec-1a209ab3aa13",
   "metadata": {},
   "outputs": [],
   "source": [
    "import numpy as np\n",
    "import pandas as pd\n",
    "from matplotlib import pyplot as plt\n",
    "import math\n",
    "import random\n",
    "import copy\n",
    "import time\n",
    "from sklearn.cluster import KMeans\n",
    "from matplotlib.lines import Line2D"
   ]
  },
  {
   "cell_type": "markdown",
   "id": "77494bba-8b7e-49e5-9e00-85958ff812c8",
   "metadata": {},
   "source": [
    "<h3>Assumptions</h3>\n",
    "<ul>\n",
    "    <li>Travel speed is consistent with all drivers</li>\n",
    "    <li>Job duration is how long the engineer will be on the job site</li>\n",
    "    <li>Engineers start at a base location but can travel between job sites to complete multiple jobs in a day</li>\n",
    "    <li>If jobs are not completed when the day end, the next day will continue with the engineers starting from their base locations</li>\n",
    "    <li>Each job length is a mimimum of 30 minutes and a maximum of 3 hours</li>\n",
    "    <li>When a job is scheduled, that involves the time a engineer leaves for a job</li>\n",
    "    <li>It's preferable for jobs to be completed in the shortest number of days</li>\n",
    "</ul>"
   ]
  },
  {
   "cell_type": "code",
   "execution_count": 165,
   "id": "e36bf4e0-c179-4934-a23e-e76124e0b762",
   "metadata": {},
   "outputs": [],
   "source": [
    "N_ENGINEERS = 4\n",
    "N_JOBS = 30\n",
    "MIN_TIME = 9\n",
    "MAX_TIME = 17\n",
    "MAP_SIZE = 25\n",
    "MIN_DUR = 0.5\n",
    "MAX_DUR = 3\n",
    "SPEED = 60 #KMH"
   ]
  },
  {
   "cell_type": "code",
   "execution_count": 169,
   "id": "fc76f3db-c795-429c-961f-6b678c693750",
   "metadata": {
    "tags": []
   },
   "outputs": [],
   "source": [
    "job_sites = np.random.randint(low=0, high=MAP_SIZE, size =(N_JOBS,2))\n",
    "job_lengths = (np.random.ranf(size =(N_JOBS))*(MAX_DUR-MIN_DUR))+MIN_DUR\n",
    "engineer_base = np.random.randint(low=0, high=MAP_SIZE, size =(N_ENGINEERS,2))\n",
    "sites_df = pd.DataFrame(job_sites, columns=[\"x\",\"y\"])\n",
    "engineers_df = pd.DataFrame(engineer_base, columns=[\"x\",\"y\"])"
   ]
  },
  {
   "cell_type": "code",
   "execution_count": 170,
   "id": "94146446-fd9f-4a36-a231-00235dfa874c",
   "metadata": {
    "tags": []
   },
   "outputs": [
    {
     "data": {
      "text/html": [
       "<div>\n",
       "<style scoped>\n",
       "    .dataframe tbody tr th:only-of-type {\n",
       "        vertical-align: middle;\n",
       "    }\n",
       "\n",
       "    .dataframe tbody tr th {\n",
       "        vertical-align: top;\n",
       "    }\n",
       "\n",
       "    .dataframe thead th {\n",
       "        text-align: right;\n",
       "    }\n",
       "</style>\n",
       "<table border=\"1\" class=\"dataframe\">\n",
       "  <thead>\n",
       "    <tr style=\"text-align: right;\">\n",
       "      <th></th>\n",
       "      <th>x-coord</th>\n",
       "      <th>y-coord</th>\n",
       "      <th>Duration in hours</th>\n",
       "    </tr>\n",
       "  </thead>\n",
       "  <tbody>\n",
       "    <tr>\n",
       "      <th>0</th>\n",
       "      <td>1</td>\n",
       "      <td>12</td>\n",
       "      <td>2.868534</td>\n",
       "    </tr>\n",
       "    <tr>\n",
       "      <th>1</th>\n",
       "      <td>16</td>\n",
       "      <td>1</td>\n",
       "      <td>1.157267</td>\n",
       "    </tr>\n",
       "    <tr>\n",
       "      <th>2</th>\n",
       "      <td>12</td>\n",
       "      <td>11</td>\n",
       "      <td>1.610308</td>\n",
       "    </tr>\n",
       "    <tr>\n",
       "      <th>3</th>\n",
       "      <td>22</td>\n",
       "      <td>5</td>\n",
       "      <td>1.910791</td>\n",
       "    </tr>\n",
       "    <tr>\n",
       "      <th>4</th>\n",
       "      <td>15</td>\n",
       "      <td>6</td>\n",
       "      <td>0.617076</td>\n",
       "    </tr>\n",
       "  </tbody>\n",
       "</table>\n",
       "</div>"
      ],
      "text/plain": [
       "   x-coord  y-coord  Duration in hours\n",
       "0        1       12           2.868534\n",
       "1       16        1           1.157267\n",
       "2       12       11           1.610308\n",
       "3       22        5           1.910791\n",
       "4       15        6           0.617076"
      ]
     },
     "execution_count": 170,
     "metadata": {},
     "output_type": "execute_result"
    }
   ],
   "source": [
    "jobs_and_durations = pd.DataFrame(job_sites, columns=[\"x-coord\",\"y-coord\"])\n",
    "jobs_and_durations[\"Duration in hours\"] = job_lengths\n",
    "jobs_and_durations.head()"
   ]
  },
  {
   "cell_type": "code",
   "execution_count": 171,
   "id": "44e150f1-abb8-4aef-8364-bcda70fe9bf9",
   "metadata": {},
   "outputs": [
    {
     "data": {
      "text/plain": [
       "<matplotlib.collections.PathCollection at 0x2138c46e3a0>"
      ]
     },
     "execution_count": 171,
     "metadata": {},
     "output_type": "execute_result"
    },
    {
     "data": {
      "image/png": "[encoded data removed]",
      "text/plain": [
       "<Figure size 432x288 with 1 Axes>"
      ]
     },
     "metadata": {
      "needs_background": "light"
     },
     "output_type": "display_data"
    }
   ],
   "source": [
    "plt.scatter(sites_df.x,sites_df.y)\n",
    "plt.scatter(engineers_df.x,engineers_df.y)"
   ]
  },
  {
   "cell_type": "code",
   "execution_count": 172,
   "id": "9019ac53-67a4-4238-a4e7-e6c3836e2af1",
   "metadata": {},
   "outputs": [],
   "source": [
    "class Agent:\n",
    "    def __init__(self):\n",
    "        #Randomise the job indexs\n",
    "        self.jobs = [x for x in range(N_JOBS)]\n",
    "        random.shuffle(self.jobs)\n",
    "        \n",
    "        self.create_routes()\n",
    "        self.utility()\n",
    "        \n",
    "    def mutate(self, n):\n",
    "        for x in range(n):\n",
    "            valid = False\n",
    "\n",
    "            while not valid:\n",
    "                temp_jobs = self.jobs.copy()\n",
    "                temp_cuts = self.cuts.copy()\n",
    "                #Job position swap\n",
    "                pos1 = random.randint(0,len(temp_jobs)-1)\n",
    "                pos2 = random.randint(0,len(temp_jobs)-1)\n",
    "                while pos2 == pos1:\n",
    "                    pos2 = random.randint(0,len(temp_jobs)-1)\n",
    "\n",
    "                temp_jobs[pos1], temp_jobs[pos2] = temp_jobs[pos2], temp_jobs[pos1]\n",
    "\n",
    "                #Job cut mutate\n",
    "                choice = random.randint(0,3)\n",
    "                cut_index = random.randint(0,len(temp_cuts)-1)\n",
    "                #Move cut up or down\n",
    "                if choice == 0:\n",
    "                    if temp_cuts[cut_index] == 0:\n",
    "                        temp_cuts[cut_index]+=1\n",
    "                    elif temp_cuts[cut_index] == len(temp_cuts):\n",
    "                        temp_cuts[cut_index]-=1\n",
    "                    else:\n",
    "                        temp_cuts[cut_index]+=random.choice([1,-1])\n",
    "                #Remove cut\n",
    "                elif choice == 1:\n",
    "                    if len(temp_cuts)>1:\n",
    "                        temp_cuts.pop(cut_index)\n",
    "                #Add cut\n",
    "                elif choice == 2:\n",
    "                    temp_cuts.insert(cut_index, temp_cuts[cut_index])\n",
    "\n",
    "                temp_cuts.sort()\n",
    "                valid = self.create_new_routes(temp_cuts, temp_jobs)\n",
    "\n",
    "            self.jobs = temp_jobs.copy()\n",
    "            self.cuts = temp_cuts.copy()\n",
    "            self.utility()\n",
    "        \n",
    "    def create_new_routes(self, cuts, jobs):\n",
    "        #Engineer routes in a day\n",
    "        days = []\n",
    "        #Engineers routes\n",
    "        engineers = []\n",
    "        \n",
    "        start = 0\n",
    "        #Gives each engineer their jobs\n",
    "        for n, cut in enumerate(cuts):\n",
    "            \n",
    "            if n == len(cuts)-1:\n",
    "                cut = None\n",
    "                \n",
    "            engineers.append(jobs[start:cut])\n",
    "            start = cut\n",
    "            #Start a new day if all engineers are occupied\n",
    "            if len(engineers) == N_ENGINEERS:\n",
    "                days.append(engineers.copy())\n",
    "                engineers = []\n",
    "                \n",
    "        days.append(engineers.copy())\n",
    "        \n",
    "        valid = self.valid_solution(days)\n",
    "        \n",
    "        if valid:\n",
    "            self.days = days.copy()\n",
    "            return True\n",
    "        else:\n",
    "            return False\n",
    "        \n",
    "    def valid_solution(self, days):\n",
    "        valid = True\n",
    "        for day in days:\n",
    "            if not valid:\n",
    "                break\n",
    "            for idx, engineer in enumerate(day):\n",
    "                if len(engineer)>1:\n",
    "                    if self.available(idx, engineer[0:-2]) is False:\n",
    "                        valid = False\n",
    "        return valid\n",
    "        \n",
    "    def create_routes(self):\n",
    "        #Engineer routes in a day\n",
    "        self.days = []\n",
    "        #Engineers routes\n",
    "        engineers = [[] for x in range(N_ENGINEERS)]\n",
    "        \n",
    "        idx = 0\n",
    "        for x in range(N_JOBS):\n",
    "            failure = True\n",
    "            while failure:\n",
    "                \n",
    "                if not self.available(idx, engineers[idx]):\n",
    "                    idx+=1\n",
    "                    if idx == N_ENGINEERS:\n",
    "                        self.days.append(engineers.copy())\n",
    "                        idx = 0\n",
    "                        engineers = [[] for x in range(N_ENGINEERS)]\n",
    "                else:         \n",
    "                    engineers[idx].append(self.jobs[x])\n",
    "                    failure = False\n",
    "        \n",
    "        self.days.append(engineers)\n",
    "        self.get_cuts()\n",
    "        #Get index cuts of jobs\n",
    "    def get_cuts(self):\n",
    "        self.cuts = []\n",
    "        idx_cutoff = 0\n",
    "        for day in self.days:\n",
    "            for engineer in day:\n",
    "                idx_cutoff += len(engineer)\n",
    "                self.cuts.append(idx_cutoff)\n",
    "        \n",
    "        self.cuts.pop(-1)\n",
    "            \n",
    "    def available(self, eng_idx, route):\n",
    "        \n",
    "        available = True\n",
    "        \n",
    "        t = MIN_TIME\n",
    "        #Get engineer base location with engineer index\n",
    "        start = [engineers_df.iloc[eng_idx].x,engineers_df.iloc[eng_idx].y]\n",
    "        \n",
    "        engineer_route = route\n",
    "        \n",
    "        for x in range(len(engineer_route)):\n",
    "            #Get index of next job site to travel to\n",
    "            loc_idx = engineer_route[x]\n",
    "            #Get location of that job ite\n",
    "            end = [sites_df.iloc[loc_idx].x,sites_df.iloc[loc_idx].y]\n",
    "            \n",
    "            #Find time to travel to job site (d/t) and do job then add to score\n",
    "            t+= self.distance(start, end)/SPEED + job_lengths[loc_idx]\n",
    "            \n",
    "            #new location is current one, loop till last location is reached\n",
    "            start = end.copy()\n",
    "        \n",
    "        if t > MAX_TIME:\n",
    "            available = False\n",
    "            \n",
    "        return available\n",
    "    \n",
    "    #Distance between job sites\n",
    "    def distance(self, l1, l2):\n",
    "        return ((l1[0]-l2[0])**2+(l1[1]-l2[1])**2)**0.5\n",
    "    \n",
    "    def utility(self):\n",
    "        self.score = 0\n",
    "        #Plot route of reach day\n",
    "        for day in self.days:\n",
    "            self.score += 1\n",
    "            #Map out each engineers route\n",
    "            for i, route in enumerate(day):\n",
    "                start = [engineers_df.iloc[i].x,engineers_df.iloc[i].y]\n",
    "\n",
    "                for x in route:\n",
    "                    end = [sites_df.iloc[x].x,sites_df.iloc[x].y]\n",
    "                    \n",
    "                    self.score += self.distance(start,end)/SPEED\n",
    "\n",
    "                    start = end.copy()\n",
    "    \n",
    "    #Visuslise the routes\n",
    "    def visualise(self):\n",
    "        #Plot route of reach dayplt subplots\n",
    "        colors = [\"#%06x\" % random.randint(0, 0xFFFFFF) for x in range(N_ENGINEERS)]\n",
    "        custom_lines = []\n",
    "        for col in colors:\n",
    "            custom_lines.append(Line2D([0], [0], color=col, lw=4))\n",
    "        fig, axs = plt.subplots(1,len(self.days), figsize=(20,10))\n",
    "        fig.legend()\n",
    "        for n, day in enumerate(self.days):\n",
    "            axs[n].set_title(\"Day \"+str(n+1))\n",
    "            #plot the locations of engineer bases and job sites\n",
    "            axs[n].scatter(sites_df.x,sites_df.y)\n",
    "            axs[n].scatter(engineers_df.x,engineers_df.y)\n",
    "\n",
    "            #Map out each engineers route\n",
    "            for i, route in enumerate(day):\n",
    "                start = [engineers_df.iloc[i].x,engineers_df.iloc[i].y]\n",
    "\n",
    "                for x in route:\n",
    "                    end = [sites_df.iloc[x].x,sites_df.iloc[x].y]\n",
    "\n",
    "                    x = [start[0],end[0]]\n",
    "                    y = [start[1],end[1]]\n",
    "                    \n",
    "                    axs[n].plot(x,y, color=colors[i], label=\"Engineer \"+str(i+1))\n",
    "                    start = end.copy()\n",
    "\n",
    "                axs[n].legend(custom_lines, [\"Engineer \"+str(x+1) for x in range(N_ENGINEERS)])\n",
    "    \n",
    "    def local_avg_utility(self,engineer, route):\n",
    "        score = 0\n",
    "        start = [engineers_df.iloc[engineer].x,engineers_df.iloc[engineer].y]\n",
    "        \n",
    "        for x in route:\n",
    "            end = [sites_df.iloc[x].x,sites_df.iloc[x].y]\n",
    "\n",
    "            score += self.distance(start,end)/SPEED\n",
    "\n",
    "            start = end.copy()\n",
    "        \n",
    "        return score/len(route)\n",
    "                \n",
    "    def recombination(self, partner_agent):\n",
    "        #score each engineers route\n",
    "        scores, routes, engineers = [], [], []\n",
    "\n",
    "        for parent in (self, partner_agent):\n",
    "            #Plot route of reach day\n",
    "            for day in parent.days:\n",
    "                #Map out each engineers route\n",
    "                for i, route in enumerate(day):\n",
    "                    if len(route)!=0:\n",
    "                        score = self.local_avg_utility(i, route)\n",
    "                        scores.append(score)\n",
    "\n",
    "                        routes.append(route.copy())\n",
    "                        engineers.append(i)\n",
    "\n",
    "        #sort rotues by score\n",
    "        zipped = zip(scores,routes,engineers)\n",
    "        zipped = sorted(zipped, key=lambda x: x[0])\n",
    "        zipped = list(zipped)\n",
    "\n",
    "        #Pick new routes\n",
    "        job_list = self.jobs.copy()\n",
    "        new_routes = []\n",
    "        engineers = []\n",
    "        for (score,route,engineer) in zipped:\n",
    "            possible = True\n",
    "            \n",
    "            #Make sure that one engineer is prioristed\n",
    "            unique_values = []\n",
    "            for eng in range(4):\n",
    "                unique_values.append(engineers.count(eng))\n",
    "            if unique_values[engineer] <= min(unique_values)+1:\n",
    "                \n",
    "                #Check that the entire route is available\n",
    "                for r in route:\n",
    "                    if r not in job_list:\n",
    "                        possible = False\n",
    "                        break\n",
    "\n",
    "                if possible:\n",
    "                    new_routes.append(route)\n",
    "                    engineers.append(engineer)\n",
    "                    \n",
    "                    for r in route:\n",
    "                        job_list.remove(r)\n",
    "\n",
    "        #If there are remaining places not gone to, check to see if they can be placed into other routes\n",
    "        if len(job_list) != 0:\n",
    "            for i, route in enumerate(new_routes):\n",
    "                #Check if route can include an additional job\n",
    "                if self.available(engineers[i], route):\n",
    "                    best_score = self.local_avg_utility(engineers[i], route)\n",
    "                    best_route = route.copy()\n",
    "                    best_job = None\n",
    "                    \n",
    "                    for j in job_list:\n",
    "                        for x in range(len(route)+1):\n",
    "                            test_route = route.copy()\n",
    "                            test_route.insert(x, j)\n",
    "                            test_score = self.local_avg_utility(engineers[i], test_route)\n",
    "                            \n",
    "                            if test_score <= best_score:\n",
    "                                best_score = test_score\n",
    "                                best_route = test_route.copy()\n",
    "                                best_job = j\n",
    "\n",
    "                    if best_job is not None:\n",
    "                        new_routes[i] = best_route.copy()\n",
    "                        job_list.remove(best_job)      \n",
    "        #Create new routes with the remaining unvisited locations\n",
    "        while True:\n",
    "            if len(job_list) != 0:\n",
    "                unique_values = []\n",
    "                for eng in range(4):\n",
    "                     unique_values.append(engineers.count(eng))\n",
    "                eng_idx = unique_values.index(min(unique_values))\n",
    "                \n",
    "                for y in range(len(job_list)):\n",
    "                    if not self.available(eng_idx, job_list[0:y+1]):\n",
    "                        new_routes.append(job_list[0:y].copy())\n",
    "                        engineers.append(eng_idx)\n",
    "                        \n",
    "                        for x in new_routes[-1]:\n",
    "                            job_list.remove(x)\n",
    "                        break\n",
    "                    elif y+1 == len(job_list):\n",
    "                        new_routes.append(job_list.copy())\n",
    "                        engineers.append(eng_idx)\n",
    "                        job_list.clear()\n",
    "                        break\n",
    "            else:\n",
    "                break\n",
    "        #Reformat the results\n",
    "        temp_jobs = []\n",
    "        temp_cuts = []\n",
    "        \n",
    "        eng_idx = 0\n",
    "        for x in range(len(new_routes)):\n",
    "            \n",
    "            while True:\n",
    "\n",
    "                if eng_idx in engineers:\n",
    "\n",
    "                    idx = engineers.index(eng_idx)\n",
    "                    route = new_routes[idx].copy()\n",
    "                    for r in route:\n",
    "                        temp_jobs.append(r)\n",
    "\n",
    "                    if len(temp_cuts) != 0:\n",
    "                        temp_cuts.append(temp_cuts[-1]+len(route))\n",
    "                    else:\n",
    "                        temp_cuts.append(len(route))\n",
    "\n",
    "                    new_routes.pop(idx)\n",
    "                    engineers.pop(idx)\n",
    "\n",
    "                    eng_idx += 1\n",
    "\n",
    "                    if eng_idx == 4:\n",
    "                        eng_idx = 0\n",
    "                        \n",
    "                    break\n",
    "\n",
    "                else:\n",
    "                    eng_idx+=1\n",
    "\n",
    "                    if len(temp_cuts) != 0:\n",
    "                        temp_cuts.append(temp_cuts[-1])\n",
    "                    else:\n",
    "                        temp_cuts.append(0)\n",
    "\n",
    "                    if eng_idx == 4:\n",
    "                        eng_idx = 0\n",
    "                        \n",
    "        valid = self.create_new_routes(temp_cuts, temp_jobs)\n",
    "        self.jobs = temp_jobs.copy()\n",
    "        self.cuts = temp_cuts.copy()\n",
    "        self.utility()"
   ]
  },
  {
   "cell_type": "code",
   "execution_count": 173,
   "id": "91e3cf3b-be6e-4091-8746-6a129bf3da33",
   "metadata": {
    "tags": []
   },
   "outputs": [
    {
     "name": "stdout",
     "output_type": "stream",
     "text": [
      "50\n",
      "100\n",
      "150\n",
      "200\n",
      "250\n",
      "300\n",
      "350\n",
      "400\n",
      "450\n",
      "500\n",
      "550\n",
      "600\n",
      "650\n",
      "700\n",
      "750\n",
      "800\n",
      "850\n",
      "900\n",
      "950\n",
      "1000\n",
      "737.276129245758\n"
     ]
    }
   ],
   "source": [
    "t = time.time()\n",
    "N_EPISODES = 1000\n",
    "n_agents = 20\n",
    "agent_scores = []\n",
    "\n",
    "#Create population\n",
    "agents = [Agent() for x in range(n_agents)]\n",
    "\n",
    "#Loop through each episode\n",
    "for e in range(N_EPISODES):\n",
    "    if (e+1)%50 == 0:\n",
    "        print(e+1)\n",
    "    #Create a clone of each agent and complete recombination and mutation\n",
    "    for i in range(n_agents):\n",
    "        clone = copy.deepcopy(agents[i])\n",
    "        clone.recombination(random.choice(agents))\n",
    "        clone.mutate(1)\n",
    "\n",
    "        agents.append(clone)\n",
    "    \n",
    "    #Sort the agents by utility\n",
    "    agents.sort(key=lambda x: x.score)\n",
    "    \n",
    "    #Select the best agents for next episode\n",
    "    agents = agents[:n_agents]\n",
    "    \n",
    "    #Record the current best score\n",
    "    agent_scores.append(agents[0].score)\n",
    "\n",
    "print(time.time()-t)"
   ]
  },
  {
   "cell_type": "code",
   "execution_count": 174,
   "id": "1fde8087-625f-4b0f-84ff-763df62418a8",
   "metadata": {},
   "outputs": [
    {
     "name": "stderr",
     "output_type": "stream",
     "text": [
      "No handles with labels found to put in legend.\n"
     ]
    },
    {
     "data": {
      "image/png": "[encoded data removed]",
      "text/plain": [
       "<Figure size 1440x720 with 2 Axes>"
      ]
     },
     "metadata": {
      "needs_background": "light"
     },
     "output_type": "display_data"
    }
   ],
   "source": [
    "agents[0].visualise()"
   ]
  },
  {
   "cell_type": "code",
   "execution_count": 175,
   "id": "2fa9af43-9583-4512-8794-3825ead02ddf",
   "metadata": {},
   "outputs": [
    {
     "data": {
      "text/plain": [
       "[[[23, 22, 4, 27], [7, 11, 0], [18, 16, 29], [24, 10, 9, 26, 25, 2]],\n",
       " [[5, 6, 1, 21, 3, 15], [12, 28, 17, 13], [14, 19, 20, 8]]]"
      ]
     },
     "execution_count": 175,
     "metadata": {},
     "output_type": "execute_result"
    }
   ],
   "source": [
    "agents[0].days"
   ]
  },
  {
   "cell_type": "code",
   "execution_count": 176,
   "id": "0fd59b12-31f2-4447-a789-538289a7eb53",
   "metadata": {},
   "outputs": [
    {
     "data": {
      "text/plain": [
       "[4, 7, 10, 16, 22, 26, 30]"
      ]
     },
     "execution_count": 176,
     "metadata": {},
     "output_type": "execute_result"
    }
   ],
   "source": [
    "agents[0].cuts"
   ]
  },
  {
   "cell_type": "code",
   "execution_count": 177,
   "id": "2948d1ea-0aaf-4065-903d-20ebd02477bc",
   "metadata": {},
   "outputs": [
    {
     "data": {
      "text/plain": [
       "3.8327756435735827"
      ]
     },
     "execution_count": 177,
     "metadata": {},
     "output_type": "execute_result"
    }
   ],
   "source": [
    "agents[0].score"
   ]
  },
  {
   "cell_type": "code",
   "execution_count": 186,
   "id": "2d2d0df0-40e4-4524-982c-f6154dd41182",
   "metadata": {},
   "outputs": [
    {
     "data": {
      "text/plain": [
       "[<matplotlib.lines.Line2D at 0x2138e9ca940>]"
      ]
     },
     "execution_count": 186,
     "metadata": {},
     "output_type": "execute_result"
    },
    {
     "data": {
      "image/png": "[encoded data removed]",
      "text/plain": [
       "<Figure size 1008x504 with 1 Axes>"
      ]
     },
     "metadata": {
      "needs_background": "light"
     },
     "output_type": "display_data"
    }
   ],
   "source": [
    "plt.figure(figsize=(14,7))\n",
    "plt.xlabel('episodes')\n",
    "plt.ylabel('utility') \n",
    "plt.title(\"Utility over episodes\")\n",
    "plt.plot(agent_scores)"
   ]
  },
  {
   "cell_type": "code",
   "execution_count": 154,
   "id": "70f26122-86cf-4e8e-8c60-b1d5b03524f5",
   "metadata": {
    "tags": []
   },
   "outputs": [
    {
     "data": {
      "text/plain": [
       "[16,\n",
       " 17,\n",
       " 27,\n",
       " 11,\n",
       " 18,\n",
       " 38,\n",
       " 25,\n",
       " 3,\n",
       " 1,\n",
       " 7,\n",
       " 22,\n",
       " 30,\n",
       " 19,\n",
       " 29,\n",
       " 13,\n",
       " 6,\n",
       " 21,\n",
       " 20,\n",
       " 8,\n",
       " 32,\n",
       " 35,\n",
       " 0,\n",
       " 31,\n",
       " 39,\n",
       " 24,\n",
       " 2,\n",
       " 14,\n",
       " 34,\n",
       " 5,\n",
       " 23,\n",
       " 12,\n",
       " 37,\n",
       " 9,\n",
       " 10,\n",
       " 15,\n",
       " 28,\n",
       " 36,\n",
       " 33,\n",
       " 26,\n",
       " 4]"
      ]
     },
     "execution_count": 154,
     "metadata": {},
     "output_type": "execute_result"
    }
   ],
   "source": [
    "agents[0].jobs"
   ]
  },
  {
   "cell_type": "code",
   "execution_count": 33,
   "id": "1b813e5d-288d-4696-9460-6260eef7cde3",
   "metadata": {},
   "outputs": [
    {
     "data": {
      "text/plain": [
       "array([0.85005182, 1.82676889, 2.43028394, 1.02173098, 2.73946551,\n",
       "       3.18804136, 2.14154728, 2.82120046, 2.42958527, 1.84228265,\n",
       "       1.37072609, 1.12893799, 1.74828908, 4.1836377 , 4.16594455,\n",
       "       2.28519982, 4.03545118, 0.63914616, 2.76036346, 0.94013127,\n",
       "       0.59728853, 3.15422502, 2.01753791, 2.3543901 , 1.26407903,\n",
       "       1.19889642, 3.49584595, 4.23001233, 1.41562782, 1.10423086,\n",
       "       4.46864637, 3.48570899, 0.68746468, 3.90258049, 1.2451186 ,\n",
       "       3.65577205, 3.78761602, 2.94674675, 1.55296866, 2.96552499])"
      ]
     },
     "execution_count": 33,
     "metadata": {},
     "output_type": "execute_result"
    }
   ],
   "source": [
    "job_lengths"
   ]
  }
 ],
 "metadata": {
  "kernelspec": {
   "display_name": "Python 3",
   "language": "python",
   "name": "python3"
  },
  "language_info": {
   "codemirror_mode": {
    "name": "ipython",
    "version": 3
   },
   "file_extension": ".py",
   "mimetype": "text/x-python",
   "name": "python",
   "nbconvert_exporter": "python",
   "pygments_lexer": "ipython3",
   "version": "3.8.8"
  }
 },
 "nbformat": 4,
 "nbformat_minor": 5
}
